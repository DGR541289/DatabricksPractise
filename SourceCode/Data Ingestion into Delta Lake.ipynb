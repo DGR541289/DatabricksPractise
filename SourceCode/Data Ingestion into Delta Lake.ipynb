{
 "cells": [
  {
   "cell_type": "code",
   "execution_count": 0,
   "metadata": {
    "application/vnd.databricks.v1+cell": {
     "cellMetadata": {
      "byteLimit": 2048000,
      "implicitDf": true,
      "rowLimit": 10000
     },
     "inputWidgets": {},
     "nuid": "ca5a5d8c-5209-4ef1-b605-e2ad8a6eb3fd",
     "showTitle": false,
     "tableResultSettingsMap": {},
     "title": ""
    }
   },
   "outputs": [],
   "source": [
    "%sql\n",
    "USE CATALOG initialcatalog;\n",
    "USE SCHEMA initialschema;\n",
    "\n",
    "SHOW TABLES;"
   ]
  },
  {
   "cell_type": "code",
   "execution_count": 0,
   "metadata": {
    "application/vnd.databricks.v1+cell": {
     "cellMetadata": {
      "byteLimit": 2048000,
      "rowLimit": 10000
     },
     "inputWidgets": {},
     "nuid": "ec4bc51d-2398-42eb-ae9b-32ead3895618",
     "showTitle": false,
     "tableResultSettingsMap": {},
     "title": ""
    }
   },
   "outputs": [],
   "source": [
    "spark.catalog.setCurrentCatalog(\"initialcatalog\")\n",
    "spark.catalog.setCurrentDatabase(\"initialschema\")\n",
    "spark.catalog.listTables(\"initialschema\")\n",
    "spark.catalog.listTables()"
   ]
  },
  {
   "cell_type": "code",
   "execution_count": 0,
   "metadata": {
    "application/vnd.databricks.v1+cell": {
     "cellMetadata": {},
     "inputWidgets": {},
     "nuid": "0e3e4e81-c317-4889-b4c5-36340a7af087",
     "showTitle": false,
     "tableResultSettingsMap": {},
     "title": ""
    }
   },
   "outputs": [],
   "source": [
    "spark.sql(f\"LIST '/Volumes/initialcatalog/initialschema/initialvolume'\").display()"
   ]
  },
  {
   "cell_type": "code",
   "execution_count": 0,
   "metadata": {
    "application/vnd.databricks.v1+cell": {
     "cellMetadata": {},
     "inputWidgets": {},
     "nuid": "3306c497-166d-40aa-90a1-0be95ccc17a0",
     "showTitle": false,
     "tableResultSettingsMap": {},
     "title": ""
    }
   },
   "outputs": [],
   "source": [
    "%sql\n",
    "USE CATALOG initialcatalog;\n",
    "-- CTAS -- Create table as\n",
    "DROP TABLE IF EXISTS initialcatalog.initialschema.electric_vehicles;\n",
    "create TABLE initialschema.electric_vehicles as\n",
    "SELECT `VIN (1-10)` AS VIN ,\n",
    "County,\n",
    "City,\n",
    "State,\n",
    "`Postal Code` AS Postal_Code,\n",
    "`Model Year` AS Model_Year,\n",
    "Make,\n",
    "Model,\n",
    "`Electric Vehicle Type` AS Vehicle_Type,\n",
    "`Clean Alternative Fuel Vehicle (CAFV) Eligibility` AS CAFV_Eligibility,\n",
    "`Electric Range` AS Range,\n",
    "`Base MSRP` AS Base_MSRP,\n",
    "`Legislative District` AS Legislative_District,\n",
    "`DOL Vehicle ID` AS DOL_Vehicle_ID,\n",
    "`Vehicle Location` AS Vehicle_Location,\n",
    "`Electric Utility` as Electric_Utility,\n",
    "`2020 Census Tract` AS 2020_Census_Tract \n",
    "FROM \n",
    "read_files(\n",
    "  '/Volumes/initialcatalog/initialschema/initialvolume/Electric_Vehicle_Population_Data.csv',\n",
    "  format => 'csv',\n",
    " sep => ',',\n",
    "  inferschema => True,\n",
    "  header => True\n",
    ");"
   ]
  },
  {
   "cell_type": "code",
   "execution_count": 0,
   "metadata": {
    "application/vnd.databricks.v1+cell": {
     "cellMetadata": {
      "byteLimit": 2048000,
      "implicitDf": true,
      "rowLimit": 10000
     },
     "inputWidgets": {},
     "nuid": "b2234f4c-8f84-4b41-8d5c-ed947cd56971",
     "showTitle": false,
     "tableResultSettingsMap": {},
     "title": ""
    }
   },
   "outputs": [],
   "source": [
    "%sql\n",
    "USE CATALOG initialcatalog;\n",
    "USE SCHEMA initialschema;\n",
    "-- CTAS -- Create table as\n",
    "DROP TABLE IF EXISTS electric_vehicles_1;\n",
    "CREATE TABLE electric_vehicles_1 (\n",
    "    VIN STRING,\n",
    "    County STRING,\n",
    "    City STRING,\n",
    "    State STRING,\n",
    "    Postal_Code STRING,\n",
    "    Model_Year INT,\n",
    "    Make STRING,\n",
    "    Model STRING,\n",
    "    Vehicle_Type STRING,\n",
    "    CAFV_Eligibility STRING,\n",
    "    Range INT,\n",
    "    Base_MSRP DOUBLE,\n",
    "    Legislative_District INT,\n",
    "    DOL_Vehicle_ID INT,\n",
    "    Vehicle_Location STRING,\n",
    "    Electric_Utility STRING,\n",
    "    2020_Census_Tract LONG\n",
    ") ;\n",
    "\n",
    "copy into electric_vehicles_1\n",
    "from (\n",
    "  SELECT `VIN (1-10)` AS VIN ,\n",
    "County,\n",
    "City,\n",
    "State,\n",
    "CAST(`Postal Code` as STRING) AS Postal_Code,\n",
    "`Model Year` AS Model_Year,\n",
    "Make,\n",
    "Model,\n",
    "`Electric Vehicle Type` AS Vehicle_Type,\n",
    "`Clean Alternative Fuel Vehicle (CAFV) Eligibility` AS CAFV_Eligibility,\n",
    "`Electric Range` AS Range,\n",
    "CAST(`Base MSRP` AS double) AS Base_MSRP,\n",
    "`Legislative District` AS Legislative_District,\n",
    "`DOL Vehicle ID` AS DOL_Vehicle_ID,\n",
    "`Vehicle Location` AS Vehicle_Location,\n",
    "`Electric Utility` as Electric_Utility,\n",
    "CAST(`2020 Census Tract` AS LONG) AS 2020_Census_Tract \n",
    "  from\n",
    "  '/Volumes/initialcatalog/initialschema/initialvolume/Electric_Vehicle_Population_Data.csv')\n",
    "FILEFORMAT = CSV\n",
    "FORMAT_OPTIONS ('header' = 'true', 'inferSchema' = 'true', 'mergeSchema' = 'true');\n",
    "    "
   ]
  },
  {
   "cell_type": "code",
   "execution_count": 0,
   "metadata": {
    "application/vnd.databricks.v1+cell": {
     "cellMetadata": {
      "byteLimit": 2048000,
      "implicitDf": true,
      "rowLimit": 10000
     },
     "inputWidgets": {},
     "nuid": "dd45b8c2-8544-4ed7-950c-756a052391c2",
     "showTitle": false,
     "tableResultSettingsMap": {},
     "title": ""
    }
   },
   "outputs": [],
   "source": [
    "%sql\n",
    "select * from electric_vehicles_1 limit 10;"
   ]
  },
  {
   "cell_type": "code",
   "execution_count": 0,
   "metadata": {
    "application/vnd.databricks.v1+cell": {
     "cellMetadata": {
      "byteLimit": 2048000,
      "implicitDf": true,
      "rowLimit": 10000
     },
     "inputWidgets": {},
     "nuid": "905a0302-0c23-48e9-9f68-52fdcf3c8f51",
     "showTitle": false,
     "tableResultSettingsMap": {},
     "title": ""
    }
   },
   "outputs": [],
   "source": [
    "%sql\n",
    "--MERGE Script\n",
    "USE CATALOG initialcatalog;\n",
    "USE SCHEMA initialschema;\n",
    "\n",
    "list \"/Volumes/initialcatalog/initialschema/initialvolume\";\n",
    "\n",
    "CREATE TABLE IF NOT EXISTS students(\n",
    "ID INT,\n",
    "Name STRING\n",
    ");\n",
    "\n",
    "copy into students from\n",
    "(\n",
    "  select cast(ID as INT), CAST(NAME as STRING)\n",
    "  from '/Volumes/initialcatalog/initialschema/initialvolume/Student.csv'\n",
    ")\n",
    "FILEFORMAT=CSV\n",
    "FORMAT_OPTIONS(\n",
    "  'header' = 'true',\n",
    "  'mergeSchema' = 'true',\n",
    "  'separator' = '|',\n",
    "  'encoding' = 'UTF-8',\n",
    "  'inferSchema' = 'true'\n",
    ")\n"
   ]
  },
  {
   "cell_type": "code",
   "execution_count": 0,
   "metadata": {
    "application/vnd.databricks.v1+cell": {
     "cellMetadata": {
      "byteLimit": 2048000,
      "implicitDf": true,
      "rowLimit": 10000
     },
     "inputWidgets": {},
     "nuid": "a46e6c88-fb0d-4af4-8278-9f4c7d4dec1c",
     "showTitle": false,
     "tableResultSettingsMap": {},
     "title": ""
    }
   },
   "outputs": [],
   "source": [
    "%sql\n",
    " USE CATALOG initialcatalog;\n",
    "USE SCHEMA initialschema;\n",
    " CREATE TABLE IF NOT EXISTS students(\n",
    "ID INT,\n",
    "Name STRING\n",
    ");\n",
    " merge into students as  t\n",
    " using (\n",
    "   \n",
    " select cast(ID as INT), CAST(NAME as STRING)\n",
    "  from read_files('/Volumes/initialcatalog/initialschema/initialvolume/Student.csv',\n",
    "  format => 'csv',\n",
    "  sep => '|',\n",
    "  header => True,\n",
    "  inferSchema => True\n",
    "  )\n",
    " ) as s\n",
    " on t.ID = s.ID\n",
    " when matched then update set \n",
    "  t.NAME = s.NAME\n",
    " when not matched then insert \n",
    "  (ID, Name)\n",
    "  values (s.ID, s.NAME)\n",
    "  WHEN NOT MATCHED BY SOURCE THEN DELETE;"
   ]
  },
  {
   "cell_type": "code",
   "execution_count": 0,
   "metadata": {
    "application/vnd.databricks.v1+cell": {
     "cellMetadata": {
      "byteLimit": 2048000,
      "implicitDf": true,
      "rowLimit": 10000
     },
     "inputWidgets": {},
     "nuid": "1628812c-ff98-45bc-bf72-2e56daff3c3f",
     "showTitle": false,
     "tableResultSettingsMap": {
      "0": {
       "dataGridStateBlob": "{\"version\":1,\"tableState\":{\"columnPinning\":{\"left\":[\"#row_number#\"],\"right\":[]},\"columnSizing\":{\"Name\":157},\"columnVisibility\":{}},\"settings\":{\"columns\":{}},\"syncTimestamp\":1753558686619}",
       "filterBlob": null,
       "queryPlanFiltersBlob": null,
       "tableResultIndex": 0
      }
     },
     "title": ""
    }
   },
   "outputs": [],
   "source": [
    "%sql\n",
    "select * from students;"
   ]
  },
  {
   "cell_type": "code",
   "execution_count": 0,
   "metadata": {
    "application/vnd.databricks.v1+cell": {
     "cellMetadata": {
      "byteLimit": 2048000,
      "implicitDf": true,
      "rowLimit": 10000
     },
     "inputWidgets": {},
     "nuid": "9aa61f3e-8ffe-4cd5-8de3-a02430ce9d23",
     "showTitle": false,
     "tableResultSettingsMap": {},
     "title": ""
    }
   },
   "outputs": [],
   "source": [
    "%sql\n",
    "describe history students;\n",
    "select* from students version as of 5;"
   ]
  }
 ],
 "metadata": {
  "application/vnd.databricks.v1+notebook": {
   "computePreferences": null,
   "dashboards": [],
   "environmentMetadata": {
    "base_environment": "",
    "environment_version": "2"
   },
   "inputWidgetPreferences": null,
   "language": "python",
   "notebookMetadata": {
    "mostRecentlyExecutedCommandWithImplicitDF": {
     "commandId": 5348425582511350,
     "dataframes": [
      "_sqldf"
     ]
    },
    "pythonIndentUnit": 4
   },
   "notebookName": "Data Ingestion into Delta Lake",
   "widgets": {}
  },
  "language_info": {
   "name": "python"
  }
 },
 "nbformat": 4,
 "nbformat_minor": 0
}
