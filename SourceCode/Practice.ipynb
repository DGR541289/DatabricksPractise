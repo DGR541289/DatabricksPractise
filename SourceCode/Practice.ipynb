{
 "cells": [
  {
   "cell_type": "code",
   "execution_count": 0,
   "metadata": {
    "application/vnd.databricks.v1+cell": {
     "cellMetadata": {
      "byteLimit": 2048000,
      "implicitDf": true,
      "rowLimit": 10000
     },
     "inputWidgets": {},
     "nuid": "ff59304f-72e4-4240-bf3c-f7e98b0ad13e",
     "showTitle": false,
     "tableResultSettingsMap": {},
     "title": ""
    }
   },
   "outputs": [],
   "source": [
    "%sql\n",
    "DESCRIBE SCHEMA EXTENDED initialcatalog.initialschema"
   ]
  },
  {
   "cell_type": "code",
   "execution_count": 0,
   "metadata": {
    "application/vnd.databricks.v1+cell": {
     "cellMetadata": {
      "byteLimit": 2048000,
      "rowLimit": 10000
     },
     "inputWidgets": {},
     "nuid": "a4315cde-2ef2-40a6-b7a6-9d67e2ebb2dd",
     "showTitle": false,
     "tableResultSettingsMap": {
      "0": {
       "dataGridStateBlob": "{\"version\":1,\"tableState\":{\"columnPinning\":{\"left\":[\"#row_number#\"],\"right\":[]},\"columnSizing\":{\"name\":478},\"columnVisibility\":{}},\"settings\":{\"columns\":{}},\"syncTimestamp\":1753497080292}",
       "filterBlob": null,
       "queryPlanFiltersBlob": null,
       "tableResultIndex": 0
      }
     },
     "title": ""
    }
   },
   "outputs": [],
   "source": [
    "#Files available in the volume\n",
    "spark.sql(f\"LIST'/Volumes/initialcatalog/initialschema/initialvolume'\").display()\n",
    "\n",
    "spark.sql(f'''\n",
    "          select * from csv.`/Volumes/initialcatalog/initialschema/initialvolume`''').display()\n"
   ]
  },
  {
   "cell_type": "code",
   "execution_count": 0,
   "metadata": {
    "application/vnd.databricks.v1+cell": {
     "cellMetadata": {
      "byteLimit": 2048000,
      "rowLimit": 10000
     },
     "inputWidgets": {},
     "nuid": "3f54d94f-e8ae-450f-846b-b6ce60d097f7",
     "showTitle": false,
     "tableResultSettingsMap": {
      "0": {
       "dataGridStateBlob": "{\"version\":1,\"tableState\":{\"columnPinning\":{\"left\":[\"#row_number#\"],\"right\":[]},\"columnSizing\":{},\"columnVisibility\":{}},\"settings\":{\"columns\":{}},\"syncTimestamp\":1753498021712}",
       "filterBlob": null,
       "queryPlanFiltersBlob": null,
       "tableResultIndex": 0
      }
     },
     "title": ""
    }
   },
   "outputs": [],
   "source": [
    "from pyspark.sql.types import StructType, StructField, StringType,FloatType\n",
    "# Read CSV files\n",
    "schema = StructType([ StructField(\"2017 NAICS Code\", StringType(), True),\n",
    "                     StructField(\"2017 NAICS Title\", StringType(), True),\n",
    "                     StructField(\"GHG\", StringType(), True),\n",
    "                     StructField(\"Unit\", StringType(), True),\n",
    "                     StructField(\"Supply Chain Emission Factors without Margins\", FloatType(), True),\n",
    "                     StructField(\"Margins of Supply Chain Emission Factors\", FloatType(), True),\n",
    "                     StructField(\"Supply Chain Emission Factors with Margins\", FloatType(), True),\n",
    "                     StructField(\"Reference USEEIO Code\", StringType(), True),\n",
    "                     \n",
    "                     \n",
    "                   ])\n",
    "\n",
    "df = spark.read.format(\"csv\").schema(schema).option(\"header\", \"true\").load(\"/Volumes/initialcatalog/initialschema/initialvolume/SupplyChainGHGEmissionFactors_v1.2_NAICS_CO2e_USD2021.csv\")\n",
    "df.display()"
   ]
  }
 ],
 "metadata": {
  "application/vnd.databricks.v1+notebook": {
   "computePreferences": null,
   "dashboards": [],
   "environmentMetadata": {
    "base_environment": "",
    "environment_version": "2"
   },
   "inputWidgetPreferences": null,
   "language": "python",
   "notebookMetadata": {
    "mostRecentlyExecutedCommandWithImplicitDF": {
     "commandId": 5200390113504691,
     "dataframes": [
      "_sqldf"
     ]
    },
    "pythonIndentUnit": 4
   },
   "notebookName": "Practice",
   "widgets": {}
  },
  "language_info": {
   "name": "python"
  }
 },
 "nbformat": 4,
 "nbformat_minor": 0
}
