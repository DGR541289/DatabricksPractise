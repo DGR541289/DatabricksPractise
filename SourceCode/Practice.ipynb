{
 "cells": [
  {
   "cell_type": "code",
   "execution_count": 0,
   "metadata": {
    "application/vnd.databricks.v1+cell": {
     "cellMetadata": {
      "byteLimit": 2048000,
      "implicitDf": true,
      "rowLimit": 10000
     },
     "inputWidgets": {},
     "nuid": "ff59304f-72e4-4240-bf3c-f7e98b0ad13e",
     "showTitle": false,
     "tableResultSettingsMap": {},
     "title": ""
    }
   },
   "outputs": [],
   "source": [
    "%sql\n",
    "USE initialcatalog.initialschema;\n",
    "DESCRIBE SCHEMA EXTENDED initialcatalog.initialschema"
   ]
  },
  {
   "cell_type": "code",
   "execution_count": 0,
   "metadata": {
    "application/vnd.databricks.v1+cell": {
     "cellMetadata": {
      "byteLimit": 2048000,
      "rowLimit": 10000
     },
     "inputWidgets": {},
     "nuid": "a4315cde-2ef2-40a6-b7a6-9d67e2ebb2dd",
     "showTitle": false,
     "tableResultSettingsMap": {
      "0": {
       "dataGridStateBlob": "{\"version\":1,\"tableState\":{\"columnPinning\":{\"left\":[\"#row_number#\"],\"right\":[]},\"columnSizing\":{\"name\":478},\"columnVisibility\":{}},\"settings\":{\"columns\":{}},\"syncTimestamp\":1753497080292}",
       "filterBlob": null,
       "queryPlanFiltersBlob": null,
       "tableResultIndex": 0
      }
     },
     "title": ""
    }
   },
   "outputs": [],
   "source": [
    "#Files available in the volume\n",
    "spark.sql(f\"LIST'/Volumes/initialcatalog/initialschema/initialvolume'\").display()\n",
    "\n",
    "spark.sql(f'''\n",
    "          select * from csv.`/Volumes/initialcatalog/initialschema/initialvolume`''').display()\n"
   ]
  },
  {
   "cell_type": "code",
   "execution_count": 0,
   "metadata": {
    "application/vnd.databricks.v1+cell": {
     "cellMetadata": {
      "byteLimit": 2048000,
      "rowLimit": 10000
     },
     "inputWidgets": {},
     "nuid": "3f54d94f-e8ae-450f-846b-b6ce60d097f7",
     "showTitle": false,
     "tableResultSettingsMap": {},
     "title": ""
    }
   },
   "outputs": [],
   "source": [
    "from pyspark.sql.types import StructType, StructField, StringType,DecimalType\n",
    "# Read CSV files\n",
    "schema = StructType([ StructField(\"2017 NAICS Code\", StringType(), True),\n",
    "                     StructField(\"2017 NAICS Title\", StringType(), True),\n",
    "                     StructField(\"GHG\", StringType(), True),\n",
    "                     StructField(\"Unit\", StringType(), True),\n",
    "                     StructField(\"Supply Chain Emission Factors without Margins\", DecimalType(10,3), True),\n",
    "                     StructField(\"Margins of Supply Chain Emission Factors\", DecimalType(10,3), True),\n",
    "                     StructField(\"Supply Chain Emission Factors with Margins\", DecimalType(10,3), True),\n",
    "                     StructField(\"Reference USEEIO Code\", StringType(), True),\n",
    "                     \n",
    "                     \n",
    "                   ])\n",
    "\n",
    "df = spark.read.format(\"csv\").schema(schema).option(\"header\", \"true\").load(\"/Volumes/initialcatalog/initialschema/initialvolume/SupplyChainGHGEmissionFactors_v1.2_NAICS_CO2e_USD2021.csv\")\n",
    "\n",
    "df = df.withColumnRenamed(\"2017 NAICS Code\",\"NAICS_Code\")\\\n",
    ".withColumnRenamed(\"2017 NAICS Title\",\"NAICS_Title\")\\\n",
    ".withColumnRenamed(\"Supply Chain Emission Factors without Margins\",\"SUPLY_CHN_EMISN_FACT_WITHOUT_MARGINS\")\\\n",
    ".withColumnRenamed(\"Margins of Supply Chain Emission Factors\",\"MARGINS_OF_SUPLY_CHN_EMISN_FACT\")\\\n",
    ".withColumnRenamed(\"Supply Chain Emission Factors with Margins\",\"SUPLY_CHN_EMISN_FACT_WITH_MARGINS\")\\\n",
    ".withColumnRenamed(\"Reference USEEIO Code\",\"USEEIO_CODE\")\n",
    "\n",
    "df.write.mode(\"overwrite\").option(\"overrieschema\",\"true\").saveAsTable(\"initialcatalog.initialschema.tbl_supply_chain_emission_factors\")"
   ]
  },
  {
   "cell_type": "code",
   "execution_count": 0,
   "metadata": {
    "application/vnd.databricks.v1+cell": {
     "cellMetadata": {
      "byteLimit": 2048000,
      "rowLimit": 10000
     },
     "inputWidgets": {},
     "nuid": "23ac62fd-33b4-4d58-bdb9-ba56a22ac1be",
     "showTitle": false,
     "tableResultSettingsMap": {},
     "title": ""
    }
   },
   "outputs": [],
   "source": [
    "spark.sql(\"DROP TABLE IF EXISTS workspace.default.tbl_supply_chain_emission_factors\")\n",
    "spark.sql(\"select * from tbl_supply_chain_emission_factors\").display()"
   ]
  }
 ],
 "metadata": {
  "application/vnd.databricks.v1+notebook": {
   "computePreferences": null,
   "dashboards": [],
   "environmentMetadata": {
    "base_environment": "",
    "environment_version": "2"
   },
   "inputWidgetPreferences": null,
   "language": "python",
   "notebookMetadata": {
    "mostRecentlyExecutedCommandWithImplicitDF": {
     "commandId": 5200390113504691,
     "dataframes": [
      "_sqldf"
     ]
    },
    "pythonIndentUnit": 4
   },
   "notebookName": "Practice",
   "widgets": {}
  },
  "language_info": {
   "name": "python"
  }
 },
 "nbformat": 4,
 "nbformat_minor": 0
}
